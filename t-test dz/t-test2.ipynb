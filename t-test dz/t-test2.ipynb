{
 "cells": [
  {
   "cell_type": "markdown",
   "metadata": {},
   "source": [
    "Задание 1."
   ]
  },
  {
   "cell_type": "markdown",
   "metadata": {},
   "source": [
    "$H_0$: Время использования личного кабинета после редизайна осталось прежним\n",
    "\n",
    "$H_1$: Время использования личного кабинета после редизайна изменилось(увеличилось или уменьшилось)"
   ]
  },
  {
   "cell_type": "code",
   "execution_count": 6,
   "metadata": {},
   "outputs": [
    {
     "name": "stdout",
     "output_type": "stream",
     "text": [
      "t-statistic: 1.845889462014165\n",
      "p-value: 0.0751397944405015\n"
     ]
    }
   ],
   "source": [
    "import scipy.stats as stats\n",
    "\n",
    "time_before = [1732, 1301, 1540, 2247, 1632, 1550, 754, 1946, 1889,\n",
    "          2748, 1349, 1648, 1665, 2416, 1470, 1681, 1868, 1629,\n",
    "          1271, 1633, 2131, 942, 1599, 1127, 2200, 661, 1207,\n",
    "          1737, 2410, 1486]\n",
    "\n",
    "time_after = [955, 2577, 360, 139, 1618, 990, 644, 1796, 1487, 949, 472,\n",
    "         1906, 1758, 1258, 2554, 612, 309, 1864, 1294, 1487, 1164, 1559,\n",
    "         491, 2286, 1270, 2069, 1553, 1629, 1704, 1623]\n",
    "\n",
    "\n",
    "t_statistic,p_value = stats.ttest_rel(time_before,time_after)\n",
    "\n",
    "print(f\"t-statistic: {t_statistic}\")\n",
    "print(f\"p-value: {p_value}\")\n"
   ]
  },
  {
   "cell_type": "markdown",
   "metadata": {},
   "source": [
    " Поскольку полученное p-значение (0.075) больше уровня значимости (0.05), мы не можем отвергнуть нулевую гипотезу, и принимает ее за истину.\n",
    " Соответственно, гипотеза, что после редизайна время использования личного кабинета на сайте изменилось - не верна."
   ]
  },
  {
   "cell_type": "markdown",
   "metadata": {},
   "source": [
    "Задание 2."
   ]
  },
  {
   "cell_type": "markdown",
   "metadata": {},
   "source": [
    "$H_0$: осле нововведений количество используемых патронов не изменилось.\n",
    "\n",
    "$H_1$: После нововведений количество используемых патронов изменилось."
   ]
  },
  {
   "cell_type": "code",
   "execution_count": 9,
   "metadata": {},
   "outputs": [
    {
     "name": "stdout",
     "output_type": "stream",
     "text": [
      "t-statistic: 1.845889462014165\n",
      "p-value: 0.0751397944405015\n",
      "Не отвергаем нулевую гипотезу. Количество патронов не изменилось после введения нововведений в игровую логику.\n"
     ]
    }
   ],
   "source": [
    "import scipy.stats as stats\n",
    "\n",
    "bullets_before = [821, 1164, 598, 854, 455, 1220, 161, 1400, 479, 215,\n",
    "          564, 159, 920, 173, 276, 444, 273, 711, 291, 880,\n",
    "          892, 712, 16, 476, 498, 9, 1251, 938, 389, 513]\n",
    "\n",
    "bullets_after = [904, 220, 676, 459, 299, 659, 1698, 1120, 514, 1086, 1499,\n",
    "         1262, 829, 476, 1149, 996, 1247, 1117, 1324, 532, 1458, 898,\n",
    "         1837, 455, 1667, 898, 474, 558, 639, 1012]\n",
    "\n",
    "t_statistic,p_value = stats.ttest_rel(time_before,time_after)\n",
    "\n",
    "print(f\"t-statistic: {t_statistic}\")\n",
    "\n",
    "\n",
    "print(f'p-value: {p_value}')\n",
    "if p_value < 0.05:\n",
    "    print('Отвергаем нулевую гипотезу. Количество патронов изменилось после введения нововведений в игровую логику.')\n",
    "else:\n",
    "    print('Не отвергаем нулевую гипотезу. Количество патронов не изменилось после введения нововведений в игровую логику.')\n"
   ]
  },
  {
   "cell_type": "code",
   "execution_count": null,
   "metadata": {},
   "outputs": [],
   "source": []
  }
 ],
 "metadata": {
  "kernelspec": {
   "display_name": "Python 3",
   "language": "python",
   "name": "python3"
  },
  "language_info": {
   "codemirror_mode": {
    "name": "ipython",
    "version": 3
   },
   "file_extension": ".py",
   "mimetype": "text/x-python",
   "name": "python",
   "nbconvert_exporter": "python",
   "pygments_lexer": "ipython3",
   "version": "3.10.0"
  }
 },
 "nbformat": 4,
 "nbformat_minor": 2
}
