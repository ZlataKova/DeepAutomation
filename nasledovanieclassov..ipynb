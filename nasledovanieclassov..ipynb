{
 "cells": [
  {
   "cell_type": "code",
   "execution_count": 2,
   "metadata": {},
   "outputs": [],
   "source": [
    "class Character: # Создаем  класс Character с базовыми свойствами\n",
    "    def __init__(self, strength, agility, intelligence):\n",
    "        self.strength = strength\n",
    "        self.agility = agility\n",
    "        self.intelligence = intelligence\n",
    "\n",
    "    def calculate_speed(self): # Вычисляем скорость на основе ловкости\n",
    "        return self.agility * 2\n",
    "\n",
    "    def calculate_damage(self): # Вычисляем урон на основе силы и интеллекта\n",
    "        return self.strength * 2 + self.intelligence\n",
    "\n",
    "\n",
    "    # Методы для общих действий\n",
    "    def trade(self):\n",
    "        print(f\"{self.__class__.__name__} продает\")\n",
    "\n",
    "    def wait(self):\n",
    "        print(f\"{self.__class__.__name__} чё-то ждет\")\n",
    "\n",
    "    def think(self):\n",
    "        print(f\"{self.__class__.__name__} находится в режиме думания\")\n",
    "\n",
    "    def move(self):\n",
    "        print(f\"{self.__class__.__name__} хочет совершить какое-то действие\")\n"
   ]
  },
  {
   "cell_type": "code",
   "execution_count": 3,
   "metadata": {},
   "outputs": [],
   "source": [
    "class Hero(Character): # Создаем класс Hero, наследуемый от Character\n",
    "    def __init__(self, name, strength, agility, intelligence, kindness):\n",
    "        super().__init__(strength, agility, intelligence)\n",
    "        self.name = name\n",
    "        self.kindness = kindness\n",
    "\n",
    "    # Прописываем свои уникальные методы для героев\n",
    "    def rescue(self): \n",
    "        print(f\"{self.name} сейчас кого-то спасает\")\n",
    "\n",
    "    def use_special_ability(self):\n",
    "        print(f\"{self.name} применяет какие-то шаманские штучки\")\n",
    "\n",
    "\n",
    "class Villain(Character): # Создаем класс Villain, наследуемый от Character\n",
    "    def __init__(self, name, strength, agility, intelligence, evilness):\n",
    "        super().__init__(strength, agility, intelligence)\n",
    "        self.name = name\n",
    "        self.evilness = evilness\n",
    "\n",
    "    # Прописываем свои никальные методы для злодеев\n",
    "    def commit_crime(self):\n",
    "        print(f\"{self.name} совершает что-то очеень недоброе\")\n",
    "\n",
    "    def use_evil_power(self):\n",
    "        print(f\"{self.name} использует силу злых духов\")"
   ]
  },
  {
   "cell_type": "code",
   "execution_count": 4,
   "metadata": {},
   "outputs": [],
   "source": [
    "class Policeman(Hero): # Создаем класс Policeman, наследуемый от Hero\n",
    "    def __init__(self, name, strength, agility, intelligence, kindness, badge_number):\n",
    "        super().__init__(name, strength, agility, intelligence, kindness)\n",
    "        self.badge_number = badge_number\n",
    "\n",
    "    # Прописываем свои eникальные методы для полицейских\n",
    "    def enforce_law(self):\n",
    "        print(f\"Policeman {self.name} наблюдает, чтобы все было хорошо и по закону\")\n",
    "\n",
    "    def make_arrest(self):\n",
    "        print(f\"Policeman {self.name} арестовал кого-то\")\n",
    "\n",
    "\n",
    "class Thief(Villain): # Создаем класс Thief, наследуемый от Villain\n",
    "    def __init__(self, name, strength, agility, intelligence, evilness, notoriety):\n",
    "        super().__init__(name, strength, agility, intelligence, evilness)\n",
    "        self.notoriety = notoriety\n",
    "\n",
    "    # Прописываем свои уникальные методы для воров\n",
    "    def steal(self):\n",
    "        print(f\"Thief {self.name} прикарманил себе что-то\")\n",
    "\n",
    "    def hide(self):\n",
    "        print(f\"Thief {self.name} скрывается от правосудия\")"
   ]
  },
  {
   "cell_type": "code",
   "execution_count": 5,
   "metadata": {},
   "outputs": [
    {
     "name": "stdout",
     "output_type": "stream",
     "text": [
      "Policeman Peter Sergeevich наблюдает, чтобы все было хорошо и по закону\n",
      "Policeman Lydochka арестовал кого-то\n",
      "Thief Sanek прикарманил себе что-то\n",
      "Thief Vasek скрывается от правосудия\n"
     ]
    }
   ],
   "source": [
    "# Создаем экземпляры классов\n",
    "policeman_1 = Policeman(\"Peter Sergeevich\", 80, 60, 50, 100, \"12345\")\n",
    "policeman_2 = Policeman(\"Lydochka\", 40, 70, 45, 85, \"54321\")\n",
    "\n",
    "thief_1 = Thief(\"Sanek\", 80, 85, 55, 90, \"High\")\n",
    "thief_2 = Thief(\"Vasek\", 65, 90, 70, 100, \"Very High\")\n",
    "\n",
    "# Вызываем методы для каждого персонажа\n",
    "policeman_1.enforce_law()\n",
    "policeman_2.make_arrest()\n",
    "thief_1.steal()\n",
    "thief_2.hide()"
   ]
  }
 ],
 "metadata": {
  "kernelspec": {
   "display_name": "Python 3",
   "language": "python",
   "name": "python3"
  },
  "language_info": {
   "codemirror_mode": {
    "name": "ipython",
    "version": 3
   },
   "file_extension": ".py",
   "mimetype": "text/x-python",
   "name": "python",
   "nbconvert_exporter": "python",
   "pygments_lexer": "ipython3",
   "version": "3.11.5"
  },
  "orig_nbformat": 4
 },
 "nbformat": 4,
 "nbformat_minor": 2
}
