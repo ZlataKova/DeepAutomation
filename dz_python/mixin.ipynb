{
 "cells": [
  {
   "cell_type": "code",
   "execution_count": 1,
   "metadata": {},
   "outputs": [],
   "source": [
    "class Character:\n",
    "    def __init__(self, name, age):\n",
    "        self.name = name\n",
    "        self.age = age"
   ]
  },
  {
   "cell_type": "code",
   "execution_count": 2,
   "metadata": {},
   "outputs": [],
   "source": [
    "\"\"\"Создаем классы с персонажами\"\"\"\n",
    "class HarryPotter(Character):\n",
    "    def cast_spell(self):\n",
    "        return \"Expecto Patronum!\"\n",
    "\n",
    "class Hagrid(Character):\n",
    "    def say_phrase(self):\n",
    "        return \"Ты волшебник, Гарри\"\n",
    "\n",
    "class Shrek(Character):\n",
    "    def roar(self):\n",
    "        return \"Уходи из моего болота!\""
   ]
  },
  {
   "cell_type": "code",
   "execution_count": 3,
   "metadata": {},
   "outputs": [],
   "source": [
    "\"\"\"Создаем интерфейс MixinFunkoPop\"\"\"\n",
    "class MixinFunkoPop:\n",
    "    def collect_dust(self):\n",
    "        return \"Я собираю пыль\"\n",
    "    \n",
    "class MixinFallable:\n",
    "    def fall(self):\n",
    "        print('В данный момент я падаю')"
   ]
  },
  {
   "cell_type": "code",
   "execution_count": 4,
   "metadata": {},
   "outputs": [],
   "source": [
    "\"\"\" Создаем интерфейс MixinPlayable\"\"\"\n",
    "class MixinPlayable:\n",
    "    def play(self):\n",
    "        return \"Я играю!\"\n",
    "    \n",
    "class MixinFlyable:\n",
    "    def fly(self):\n",
    "        return \"Я лечу!\""
   ]
  },
  {
   "cell_type": "code",
   "execution_count": 8,
   "metadata": {},
   "outputs": [],
   "source": [
    "\"\"\" Класс для играбельного Гарри Поттера\"\"\"\n",
    "class PlayableHarryPotter(HarryPotter, MixinPlayable):\n",
    "    def cast_spell(self):\n",
    "        raise NotImplementedError(\"PlayableHarryPotter cannot cast spells\")\n",
    "\n",
    "\"\"\" Класс для игрушечного Гарри Поттера\"\"\"\n",
    "class FunkoPopHarryPotter(HarryPotter, MixinFunkoPop):\n",
    "    def cast_spell(self):\n",
    "        raise NotImplementedError(\"FunkoPopHarryPotter cannot cast spells\")"
   ]
  },
  {
   "cell_type": "code",
   "execution_count": 6,
   "metadata": {},
   "outputs": [],
   "source": [
    "\"\"\"Класс для играбельного Хагрида\"\"\"\n",
    "class PlayableHagrid(Hagrid, MixinPlayable):\n",
    "    def carry_umbrella(self):\n",
    "        raise NotImplementedError(\"PlayableHagrid cannot say phrase\")\n",
    "\n",
    "\"\"\"Класс для игрушечного Хагрида\"\"\"\n",
    "class FunkoPopHagrid(Hagrid, MixinFunkoPop):\n",
    "    def carry_umbrella(self):\n",
    "        raise NotImplementedError(\"FunkoPopHagrid cannot say phrase\")\n"
   ]
  },
  {
   "cell_type": "code",
   "execution_count": 7,
   "metadata": {},
   "outputs": [],
   "source": [
    "\"\"\" Класс для играбельного Шрека\"\"\"\n",
    "class PlayableShrek(Shrek, MixinPlayable):\n",
    "    def roar(self):\n",
    "        raise NotImplementedError(\"PlayableShrek cannot roar\")\n",
    "\n",
    "\"\"\" Класс для игрушечного Шрека\"\"\"\n",
    "class FunkoPopShrek(Shrek, MixinFunkoPop):\n",
    "    def roar(self):\n",
    "        raise NotImplementedError(\"FunkoPopShrek cannot roar\")\n"
   ]
  }
 ],
 "metadata": {
  "kernelspec": {
   "display_name": "Python 3",
   "language": "python",
   "name": "python3"
  },
  "language_info": {
   "codemirror_mode": {
    "name": "ipython",
    "version": 3
   },
   "file_extension": ".py",
   "mimetype": "text/x-python",
   "name": "python",
   "nbconvert_exporter": "python",
   "pygments_lexer": "ipython3",
   "version": "3.11.5"
  },
  "orig_nbformat": 4
 },
 "nbformat": 4,
 "nbformat_minor": 2
}
